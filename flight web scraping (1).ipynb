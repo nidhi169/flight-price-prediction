{
 "cells": [
  {
   "cell_type": "code",
   "execution_count": 1,
   "metadata": {},
   "outputs": [],
   "source": [
    "import bs4\n",
    "from bs4 import BeautifulSoup\n",
    "import requests\n",
    "import re\n",
    "import time\n",
    "from datetime import datetime\n",
    "\n",
    "import pandas as pd\n",
    "import numpy as np\n",
    "import seaborn as sns\n",
    "import matplotlib.pyplot as plt\n",
    "%matplotlib inline\n",
    "\n",
    "from selenium import webdriver\n",
    "from mpl_toolkits.mplot3d import Axes3D"
   ]
  },
  {
   "cell_type": "code",
   "execution_count": 52,
   "metadata": {},
   "outputs": [],
   "source": [
    "driver=webdriver.Chrome(\"chromedriver.exe\") \n",
    "time.sleep(3)"
   ]
  },
  {
   "cell_type": "code",
   "execution_count": 53,
   "metadata": {},
   "outputs": [],
   "source": [
    "driver.get('https://www.expedia.co.in/')"
   ]
  },
  {
   "cell_type": "code",
   "execution_count": 54,
   "metadata": {},
   "outputs": [],
   "source": [
    "#Setting ticket types paths\n",
    "return_ticket = \"//label[@id='flight-type-roundtrip-label-hp-flight']\"\n",
    "one_way_ticket = \"//label[@id='flight-type-one-way-label-hp-flight']\"\n",
    "multi_ticket = \"//label[@id='flight-type-multi-dest-label-hp-flight']\""
   ]
  },
  {
   "cell_type": "code",
   "execution_count": 55,
   "metadata": {},
   "outputs": [],
   "source": [
    "from selenium.webdriver.common.by import By\n",
    "from selenium.webdriver.common.keys import Keys"
   ]
  },
  {
   "cell_type": "code",
   "execution_count": 56,
   "metadata": {},
   "outputs": [],
   "source": [
    "def ticket_chooser(ticket):\n",
    "\n",
    "    try:\n",
    "        ticket_type = browser.find_element_by_xpath(ticket)\n",
    "        ticket_type.click()\n",
    "    except Exception as e:\n",
    "        pass"
   ]
  },
  {
   "cell_type": "code",
   "execution_count": 57,
   "metadata": {},
   "outputs": [],
   "source": [
    "def dep_country_chooser(dep_country):\n",
    "    fly_from = browser.find_element_by_xpath(\"//input[@id='flight-origin-hp-flight']\")\n",
    "    time.sleep(1)\n",
    "    fly_from.clear()\n",
    "    time.sleep(1.5)\n",
    "    fly_from.send_keys('  ' + dep_country)\n",
    "    time.sleep(1.5)\n",
    "    first_item = browser.find_element_by_xpath(\"//a[@id='aria-option-0']\")\n",
    "    time.sleep(1.5)\n",
    "    first_item.click()"
   ]
  },
  {
   "cell_type": "code",
   "execution_count": 58,
   "metadata": {},
   "outputs": [],
   "source": [
    "def arrival_country_chooser(arrival_country):\n",
    "    fly_to = browser.find_element_by_xpath(\"//input[@id='flight-destination-hp-flight']\")\n",
    "    time.sleep(1)\n",
    "    fly_to.clear()\n",
    "    time.sleep(1.5)\n",
    "    fly_to.send_keys('  ' + arrival_country)\n",
    "    time.sleep(1.5)\n",
    "    first_item = browser.find_element_by_xpath(\"//a[@id='aria-option-0']\")\n",
    "    time.sleep(1.5)\n",
    "    first_item.click()"
   ]
  },
  {
   "cell_type": "code",
   "execution_count": 59,
   "metadata": {},
   "outputs": [],
   "source": [
    "def dep_date_chooser(month, day, year):\n",
    "\n",
    "    dep_date_button = browser.find_element_by_xpath(\"//input[@id='flight-departing-hp-flight']\")\n",
    "    dep_date_button.clear()\n",
    "    dep_date_button.send_keys(month + '/' + day + '/' + year)"
   ]
  },
  {
   "cell_type": "code",
   "execution_count": 60,
   "metadata": {},
   "outputs": [],
   "source": [
    "def return_date_chooser(month, day, year):\n",
    "    return_date_button = browser.find_element_by_xpath(\"//input[@id='flight-returning-hp-flight']\")\n",
    "\n",
    "    for i in range(11):\n",
    "        return_date_button.send_keys(Keys.BACKSPACE)\n",
    "    return_date_button.send_keys(month + '/' + day + '/' + year)"
   ]
  },
  {
   "cell_type": "code",
   "execution_count": 61,
   "metadata": {},
   "outputs": [],
   "source": [
    "def search():\n",
    "    search = browser.find_element_by_xpath(\"//button[@class='btn-primary btn-action gcw-submit']\")\n",
    "    search.click()\n",
    "    time.sleep(15)\n",
    "    print('Results ready!')"
   ]
  },
  {
   "cell_type": "code",
   "execution_count": 62,
   "metadata": {},
   "outputs": [],
   "source": [
    "df = pd.DataFrame()\n",
    "def compile_data():\n",
    "    global df\n",
    "    global dep_times_list\n",
    "    global arr_times_list\n",
    "    global airlines_list\n",
    "    global price_list\n",
    "    global durations_list\n",
    "    global stops_list\n",
    "    global layovers_list"
   ]
  },
  {
   "cell_type": "code",
   "execution_count": 63,
   "metadata": {},
   "outputs": [
    {
     "data": {
      "text/plain": [
       "['07:00 - 09:10',\n",
       " '08:00 - 10:10',\n",
       " '02:00 - 04:15',\n",
       " '19:40 - 21:55',\n",
       " '21:00 - 23:15',\n",
       " '12:20 - 18:10',\n",
       " '11:50 - 18:10',\n",
       " '09:00 - 15:45',\n",
       " '09:15 - 18:10',\n",
       " '06:00 - 15:45',\n",
       " '07:40 - 18:10',\n",
       " '10:35 - 21:25',\n",
       " '09:00 - 20:20',\n",
       " '06:25 - 18:10',\n",
       " '21:00 - 08:50',\n",
       " '06:00 - 08:00',\n",
       " '09:30 - 11:35',\n",
       " '12:50 - 15:00',\n",
       " '15:30 - 17:40',\n",
       " '07:30 - 09:45',\n",
       " '10:20 - 12:35',\n",
       " '08:50 - 11:10',\n",
       " '11:40 - 14:00',\n",
       " '18:55 - 21:15',\n",
       " '16:55 - 19:05']"
      ]
     },
     "execution_count": 63,
     "metadata": {},
     "output_type": "execute_result"
    }
   ],
   "source": [
    "#departure times\n",
    "dep_times = driver.find_elements_by_xpath(\"//span[@data-test-id='departure-time']\")\n",
    "dep_times_list = [value.text for value in dep_times]\n",
    "dep_times_list"
   ]
  },
  {
   "cell_type": "code",
   "execution_count": 75,
   "metadata": {},
   "outputs": [
    {
     "data": {
      "text/plain": [
       "[]"
      ]
     },
     "execution_count": 75,
     "metadata": {},
     "output_type": "execute_result"
    }
   ],
   "source": [
    "#arrival times\n",
    "arr_times = driver.find_elements_by_xpath(\"//span[@data-test-id='arrival-time']\")\n",
    "arr_times_list = [value.text for value in arr_times]\n",
    "arr_times_list\n",
    "\n"
   ]
  },
  {
   "cell_type": "code",
   "execution_count": 76,
   "metadata": {},
   "outputs": [],
   "source": [
    "#airline name\n",
    "airlines = driver.find_elements_by_xpath(\"//span[@data-test-id='airline-name']\")\n",
    "airlines_list = [value.text for value in airlines]\n",
    "\n",
    "\n",
    "   "
   ]
  },
  {
   "cell_type": "code",
   "execution_count": 77,
   "metadata": {},
   "outputs": [],
   "source": [
    " #prices\n",
    "prices = driver.find_elements_by_xpath(\"//span[@data-test-id='listing-price-dollars']\")\n",
    "price_list = [value.text.split('$')[1] for value in prices]\n",
    "\n",
    "\n",
    "    "
   ]
  },
  {
   "cell_type": "code",
   "execution_count": 78,
   "metadata": {},
   "outputs": [],
   "source": [
    "#durations\n",
    "durations = driver.find_elements_by_xpath(\"//span[@data-test-id='duration']\")\n",
    "durations_list = [value.text for value in durations]\n"
   ]
  },
  {
   "cell_type": "code",
   "execution_count": 79,
   "metadata": {},
   "outputs": [],
   "source": [
    "#stops\n",
    "stops = driver.find_elements_by_xpath(\"//span[@class='number-stops']\")\n",
    "stops_list = [value.text for value in stops]\n",
    "\n",
    "\n",
    "    "
   ]
  },
  {
   "cell_type": "code",
   "execution_count": 80,
   "metadata": {},
   "outputs": [],
   "source": [
    "#layovers\n",
    "layovers = driver.find_elements_by_xpath(\"//span[@data-test-id='layover-airport-stops']\")\n",
    "layovers_list = [value.text for value in layovers]"
   ]
  },
  {
   "cell_type": "code",
   "execution_count": 81,
   "metadata": {},
   "outputs": [],
   "source": [
    "import time\n",
    "import datetime"
   ]
  },
  {
   "cell_type": "code",
   "execution_count": 82,
   "metadata": {},
   "outputs": [],
   "source": [
    "now = datetime.datetime.now()\n"
   ]
  },
  {
   "cell_type": "code",
   "execution_count": 83,
   "metadata": {},
   "outputs": [],
   "source": [
    "current_date = (str(now.year) + '-' + str(now.month) + '-' + str(now.day))\n",
    "current_time = (str(now.hour) + ':' + str(now.minute))\n",
    "current_price = 'price' + '(' + current_date + '---' + current_time + ')'\n"
   ]
  },
  {
   "cell_type": "code",
   "execution_count": 84,
   "metadata": {},
   "outputs": [],
   "source": [
    "for i in range(len(dep_times_list)):\n",
    "        try:\n",
    "            df.loc[i, 'departure_time'] = dep_times_list[i]\n",
    "        except Exception as e:\n",
    "            pass\n",
    "        try:\n",
    "            df.loc[i, 'arrival_time'] = arr_times_list[i]\n",
    "        except Exception as e:\n",
    "            pass\n",
    "        try:\n",
    "            df.loc[i, 'airline'] = airlines_list[i]\n",
    "        except Exception as e:\n",
    "            pass\n",
    "        try:\n",
    "            df.loc[i, 'duration'] = durations_list[i]\n",
    "        except Exception as e:\n",
    "            pass\n",
    "        try:\n",
    "            df.loc[i, 'stops'] = stops_list[i]\n",
    "        except Exception as e:\n",
    "            pass\n",
    "        try:\n",
    "            df.loc[i, 'layovers'] = layovers_list[i]\n",
    "        except Exception as e:\n",
    "            pass\n",
    "        try:\n",
    "            df.loc[i, str(current_price)] = price_list[i]\n",
    "        except Exception as e:\n",
    "            pass\n",
    "\n"
   ]
  },
  {
   "cell_type": "code",
   "execution_count": null,
   "metadata": {},
   "outputs": [],
   "source": []
  }
 ],
 "metadata": {
  "kernelspec": {
   "display_name": "Python 3",
   "language": "python",
   "name": "python3"
  },
  "language_info": {
   "codemirror_mode": {
    "name": "ipython",
    "version": 3
   },
   "file_extension": ".py",
   "mimetype": "text/x-python",
   "name": "python",
   "nbconvert_exporter": "python",
   "pygments_lexer": "ipython3",
   "version": "3.8.5"
  }
 },
 "nbformat": 4,
 "nbformat_minor": 4
}
